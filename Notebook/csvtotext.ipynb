{
 "cells": [
  {
   "cell_type": "code",
   "execution_count": 1,
   "metadata": {},
   "outputs": [],
   "source": [
    "import pandas as pd"
   ]
  },
  {
   "cell_type": "code",
   "execution_count": 2,
   "metadata": {},
   "outputs": [
    {
     "name": "stdout",
     "output_type": "stream",
     "text": [
      "File loaded successfully with latin1 encoding.\n",
      "File loaded successfully with cp1252 encoding.\n"
     ]
    }
   ],
   "source": [
    "import pandas as pd\n",
    "\n",
    "# Try using 'latin1' encoding\n",
    "try:\n",
    "    data = pd.read_csv('/Users/rianrachmanto/miniforge3/project/RAG_Drill_Report/data/Timelog SA-22 1.csv', encoding='latin1')\n",
    "    print(\"File loaded successfully with latin1 encoding.\")\n",
    "except UnicodeDecodeError as e:\n",
    "    print(\"latin1 encoding failed:\", e)\n",
    "\n",
    "# If latin1 fails, try 'cp1252'\n",
    "try:\n",
    "    data = pd.read_csv('/Users/rianrachmanto/miniforge3/project/RAG_Drill_Report/data/Timelog SA-22 1.csv', encoding='cp1252')\n",
    "    print(\"File loaded successfully with cp1252 encoding.\")\n",
    "except UnicodeDecodeError as e:\n",
    "    print(\"cp1252 encoding failed:\", e)\n"
   ]
  },
  {
   "cell_type": "code",
   "execution_count": 3,
   "metadata": {},
   "outputs": [
    {
     "name": "stdout",
     "output_type": "stream",
     "text": [
      "   Unnamed: 0  Unnamed: 1             Rig Unit        Report Date  \\\n",
      "0         NaN         NaN  Mast Unit-2  Remote  29-Dec-2012 18:00   \n",
      "1         NaN         NaN  Mast Unit-2  Remote  29-Dec-2012 19:00   \n",
      "2         NaN         NaN  Mast Unit-2  Remote  29-Dec-2012 21:30   \n",
      "3         NaN         NaN  Mast Unit-2  Remote   30-Dec-2012 0:00   \n",
      "4         NaN         NaN  Mast Unit-2  Remote   30-Dec-2012 3:00   \n",
      "\n",
      "          Phase Activity  Duration  NPT  \\\n",
      "0       MOB, RU  UNITMOV       1.0  NaN   \n",
      "1       MOB, RU  SLKPLUG       2.5  NaN   \n",
      "2  INTER, INTER   SLKDMG       2.5  NaN   \n",
      "3  INTER, INTER      R/U       3.0  NaN   \n",
      "4  INTER, INTER      TIH       1.0  NaN   \n",
      "\n",
      "                                             Summary  Unnamed: 9  ...  \\\n",
      "0  Reposition Hallco mast unit from SA - to SA-22...         NaN  ...   \n",
      "1  R/U Slickline, presure test PCE 250/2000 psi 5...         NaN  ...   \n",
      "2  M/U 2.72\" TGC tools, RIH to HUD @ 12.230' WLM ...         NaN  ...   \n",
      "3  R/U Mast Unit. M/U RMT-EU - Capacitance tools....         NaN  ...   \n",
      "4  RIH RMT Tools @ 100 FPM, stop at depth 3100' d...         NaN  ...   \n",
      "\n",
      "   Unnamed: 16  Unnamed: 17  Unnamed: 18  Unnamed: 19  Unnamed: 20  \\\n",
      "0          NaN          NaN          NaN          NaN          NaN   \n",
      "1          NaN          NaN          NaN          NaN          NaN   \n",
      "2          NaN          NaN          NaN          NaN          NaN   \n",
      "3          NaN          NaN          NaN          NaN          NaN   \n",
      "4          NaN          NaN          NaN          NaN          NaN   \n",
      "\n",
      "   Unnamed: 21  Unnamed: 22  Unnamed: 23  Unnamed: 24  Unnamed: 25  \n",
      "0          NaN          NaN          NaN          NaN          NaN  \n",
      "1          NaN          NaN          NaN          NaN          NaN  \n",
      "2          NaN          NaN          NaN          NaN          NaN  \n",
      "3          NaN          NaN          NaN          NaN          NaN  \n",
      "4          NaN          NaN          NaN          NaN          NaN  \n",
      "\n",
      "[5 rows x 26 columns]\n"
     ]
    }
   ],
   "source": [
    "print(data.head())"
   ]
  },
  {
   "cell_type": "code",
   "execution_count": 4,
   "metadata": {},
   "outputs": [
    {
     "name": "stdout",
     "output_type": "stream",
     "text": [
      "         Report Date                                            Summary\n",
      "0  29-Dec-2012 18:00  Reposition Hallco mast unit from SA - to SA-22...\n",
      "1  29-Dec-2012 19:00  R/U Slickline, presure test PCE 250/2000 psi 5...\n",
      "2  29-Dec-2012 21:30  M/U 2.72\" TGC tools, RIH to HUD @ 12.230' WLM ...\n",
      "3   30-Dec-2012 0:00  R/U Mast Unit. M/U RMT-EU - Capacitance tools....\n",
      "4   30-Dec-2012 3:00  RIH RMT Tools @ 100 FPM, stop at depth 3100' d...\n"
     ]
    }
   ],
   "source": [
    "df1=data[['Report Date','Summary']]\n",
    "print(df1.head())"
   ]
  },
  {
   "cell_type": "code",
   "execution_count": 5,
   "metadata": {},
   "outputs": [],
   "source": [
    "# load the data\n",
    "# data=pd.read_csv('/Users/rianrachmanto/miniforge3/project/RAG_Drill_Report/data/Timelog SA-22 1.csv')\n",
    "# df=data[['Wellbore','Remark']]\n",
    "# print(df.Wellbore.unique().tolist())\n",
    "# selected_wellbore=df[df.Wellbore=='15_9F15D']\n",
    "# print(selected_wellbore)"
   ]
  },
  {
   "cell_type": "code",
   "execution_count": 6,
   "metadata": {},
   "outputs": [],
   "source": [
    "#remove Wellbore column\n",
    "# selected_wellbore=selected_wellbore.drop(columns='Wellbore')"
   ]
  },
  {
   "cell_type": "code",
   "execution_count": 7,
   "metadata": {},
   "outputs": [],
   "source": [
    "path='/Users/rianrachmanto/miniforge3/project/RAG_Drill_Report/data/well_remark.txt'"
   ]
  },
  {
   "cell_type": "code",
   "execution_count": 8,
   "metadata": {},
   "outputs": [],
   "source": [
    "with open(path, 'a') as f:\n",
    "    df_string = df1.to_string(header=True, index=False)\n",
    "    f.write(df_string)"
   ]
  }
 ],
 "metadata": {
  "kernelspec": {
   "display_name": "mlp",
   "language": "python",
   "name": "python3"
  },
  "language_info": {
   "codemirror_mode": {
    "name": "ipython",
    "version": 3
   },
   "file_extension": ".py",
   "mimetype": "text/x-python",
   "name": "python",
   "nbconvert_exporter": "python",
   "pygments_lexer": "ipython3",
   "version": "3.9.16"
  }
 },
 "nbformat": 4,
 "nbformat_minor": 2
}
